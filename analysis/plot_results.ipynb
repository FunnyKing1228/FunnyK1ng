{
 "cells": [
  {
   "cell_type": "markdown",
   "metadata": {},
   "source": [
    "# Plot Training Results\n",
    "This notebook visualizes convergence and safety metrics from TensorBoard logs."
   ]
  },
  {
   "cell_type": "code",
   "execution_count": null,
   "metadata": {},
   "outputs": [],
   "source": [
    "from tensorboard.backend.event_processing import event_accumulator\n",
    "import matplotlib.pyplot as plt\n",
    "import os"
   ]
  },
  {
   "cell_type": "code",
   "execution_count": null,
   "metadata": {},
   "outputs": [],
   "source": [
    "# Path to TensorBoard run directory\n",
    "log_dir = os.path.join('microgrid-fedrl', 'results', 'runs')\n",
    "run = sorted(os.listdir(log_dir))[-1]  # latest run\n",
    "ea = event_accumulator.EventAccumulator(os.path.join(log_dir, run))\n",
    "ea.Reload()"
   ]
  },
  {
   "cell_type": "code",
   "execution_count": null,
   "metadata": {},
   "outputs": [],
   "source": [
    "steps = [e.step for e in ea.Scalars('episode_reward')]\n",
    "rewards = [e.value for e in ea.Scalars('episode_reward')]\n",
    "violations = [e.value for e in ea.Scalars('violation_rate')]"
   ]
  },
  {
   "cell_type": "code",
   "execution_count": null,
   "metadata": {},
   "outputs": [],
   "source": [
    "fig, ax = plt.subplots(1, 2, figsize=(12, 4))\n",
    "ax[0].plot(steps, rewards)\n",
    "ax[0].set_title('Convergence Curve')\n",
    "ax[0].set_xlabel('Episode')\n",
    "ax[0].set_ylabel('Reward')\n",
    "ax[1].plot(steps, violations)\n",
    "ax[1].set_title('Violation Rate')\n",
    "ax[1].set_xlabel('Episode')\n",
    "ax[1].set_ylabel('Rate')\n",
    "plt.tight_layout()"
   ]
  }
 ],
 "metadata": {
  "kernelspec": {
   "display_name": "Python 3",
   "language": "python",
   "name": "python3"
  },
  "language_info": {
   "name": "python",
   "pygments_lexer": "ipython3"
  }
 },
 "nbformat": 4,
 "nbformat_minor": 5
}
